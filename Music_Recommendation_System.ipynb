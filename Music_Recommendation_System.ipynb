{
  "cells": [
    {
      "cell_type": "markdown",
      "metadata": {
        "id": "view-in-github",
        "colab_type": "text"
      },
      "source": [
        "<a href=\"https://colab.research.google.com/github/anoushka2006/Music-Recommendation-System/blob/main/Music_Recommendation_System.ipynb\" target=\"_parent\"><img src=\"https://colab.research.google.com/assets/colab-badge.svg\" alt=\"Open In Colab\"/></a>"
      ]
    },
    {
      "cell_type": "markdown",
      "metadata": {
        "id": "dJ2lDUkj53ko"
      },
      "source": [
        "#**Music Recommendation System**\n",
        "By Anoushka Chaudhury\n",
        "\n",
        "---\n",
        "\n",
        "Music Recommendation System that uses sophisticated algorithms to suggest songs based on user preferences, and song popularity to give song recommendations and predict hits in the genre based on the similarity of certain musical features. By using content-based filtering, the system examines song characteristics like genre, tempo and more , the system provides personalized recommendations. Advanced machine learning techniques enhance the accuracy of these suggestions, predicting hits within specific genres by analyzing historical patterns. This approach not only enhances user experience and music discovery but also provides valuable market insights for artists and labels, ensuring that the recommendations remain relevant and engaging."
      ]
    },
    {
      "cell_type": "markdown",
      "metadata": {
        "id": "vjpCz1MxDxou"
      },
      "source": [
        "#**Preliminary exploration of the data**"
      ]
    },
    {
      "cell_type": "code",
      "execution_count": null,
      "metadata": {
        "id": "qNWNUwle4P4g"
      },
      "outputs": [],
      "source": [
        "# General Imports:\n",
        "import pandas as pd\n",
        "import numpy as np\n",
        "import matplotlib.pyplot as plt\n",
        "import IPython.display as ipd\n",
        "import gdown\n",
        "\n",
        "# for the ML\n",
        "from sklearn.linear_model import LogisticRegression\n",
        "from sklearn.naive_bayes import GaussianNB\n",
        "from sklearn.svm import SVC\n",
        "from sklearn.neighbors import KNeighborsClassifier\n",
        "from sklearn.neural_network import MLPClassifier\n",
        "from sklearn.model_selection import train_test_split\n",
        "\n",
        "import warnings\n",
        "warnings.filterwarnings(\"ignore\")"
      ]
    },
    {
      "cell_type": "code",
      "execution_count": null,
      "metadata": {
        "id": "ZgNIVYOYCXK_"
      },
      "outputs": [],
      "source": [
        "# Importing packages and dataset\n",
        "import ast\n",
        "import seaborn as sns\n",
        "import pandas as pd\n",
        "import numpy as np\n",
        "from sklearn.feature_extraction.text import CountVectorizer\n",
        "from sklearn.metrics.pairwise import cosine_similarity\n",
        "from sklearn.metrics import pairwise_distances\n",
        "from IPython import display\n",
        "import ipywidgets as widgets\n",
        "from sklearn.linear_model import LogisticRegression\n",
        "from sklearn.model_selection import train_test_split\n",
        "\n",
        "from ipywidgets import interact, interactive, fixed, interact_manual\n",
        "import ipywidgets as widgets\n",
        "\n",
        "import warnings\n",
        "warnings.filterwarnings(\"ignore\")"
      ]
    },
    {
      "cell_type": "code",
      "execution_count": null,
      "metadata": {
        "collapsed": true,
        "id": "zPf5uc804l1O"
      },
      "outputs": [],
      "source": [
        "# Downloading the data\n",
        "!wget -O ./spotify_data_urls.csv 'https://storage.googleapis.com/inspirit-ai-data-bucket-1/Data/AI%20Scholars/Sessions%206%20-%2010%20(Projects)/Project%20-%20Music%20Recommendation/spotify_data_urls.csv'\n",
        "data_path = './spotify_data_urls.csv'"
      ]
    },
    {
      "cell_type": "code",
      "execution_count": null,
      "metadata": {
        "id": "gJYVKzgu4Zhp"
      },
      "outputs": [],
      "source": [
        "# Load in data\n",
        "data = pd.read_csv(data_path)\n",
        "basic_data = data[['Artist','Track','Year','url','Label']]\n",
        "basic_data.head(10)"
      ]
    },
    {
      "cell_type": "code",
      "execution_count": null,
      "metadata": {
        "id": "RTm-oedA4uQd"
      },
      "outputs": [],
      "source": [
        "# To understand the parameters and information present\n",
        "print(data.columns.tolist())\n",
        "data.info()"
      ]
    },
    {
      "cell_type": "code",
      "execution_count": null,
      "metadata": {
        "id": "C9rtxz-Z5Rop"
      },
      "outputs": [],
      "source": [
        "# Analysing different data\n",
        "# Danceability Histogram\n",
        "plot1 = plt.figure(1)\n",
        "plt.hist(data[\"danceability\"], color = 'b')\n",
        "plt.xlabel('Danceability')\n",
        "plt.ylabel('Count')\n",
        "plt.title('Danceability Histogram')\n",
        "plt.plot()\n",
        "\n",
        "# Energy Histogram\n",
        "plot2 = plt.figure(2)\n",
        "plt.hist(data[\"energy\"], color = 'red')\n",
        "plt.xlabel('Energy')\n",
        "plt.ylabel('Count')\n",
        "plt.title('Energy Histogram')\n",
        "plt.plot()\n",
        "\n",
        "# Key Histogram\n",
        "plot3 = plt.figure(3)\n",
        "plt.hist(data[\"key\"], color = 'pink')\n",
        "plt.xlabel('Key')\n",
        "plt.ylabel('Count')\n",
        "plt.title('Key Histogram')\n",
        "plt.plot()\n",
        "\n",
        "# Loudness Histogram\n",
        "plot4 = plt.figure(4)\n",
        "plt.hist(data[\"loudness\"], color = 'green')\n",
        "plt.xlabel('Loudness')\n",
        "plt.ylabel('Count')\n",
        "plt.title('Loudness Histogram')\n",
        "plt.plot()\n",
        "\n",
        "\n",
        "### END CODE\n",
        "plt.show()"
      ]
    },
    {
      "cell_type": "code",
      "execution_count": null,
      "metadata": {
        "id": "Sr-TgbI_5hxJ"
      },
      "outputs": [],
      "source": [
        "# Subjective features\n",
        "subjective = data[['danceability', 'energy', 'speechiness', 'acousticness', 'instrumentalness', 'liveness', 'valence']]\n",
        "\n",
        "# Objective features\n",
        "objective = data[['Artist', 'Track', 'Year', 'key', 'loudness', 'mode', 'tempo']]"
      ]
    },
    {
      "cell_type": "code",
      "execution_count": null,
      "metadata": {
        "collapsed": true,
        "id": "MLA5YNhp6Cm_"
      },
      "outputs": [],
      "source": [
        "# Initialising the X and y data values\n",
        "X = data[['danceability','energy','key','loudness','mode','speechiness','acousticness','instrumentalness','liveness','valence','tempo']]\n",
        "y = data[['Label']]\n",
        "\n",
        "# The data matrix and label vector\n",
        "print(X)\n",
        "print(y)"
      ]
    },
    {
      "cell_type": "code",
      "execution_count": null,
      "metadata": {
        "id": "2CBFRzrH6FhG"
      },
      "outputs": [],
      "source": [
        "# Splitting the data into training and testing\n",
        "logM = LogisticRegression()\n",
        "X_train, X_test, y_train, y_test = train_test_split(X, y, test_size=0.2)\n",
        "\n",
        "# Initializing the logistic regression model and training it\n",
        "logM.fit(X_train, y_train)\n",
        "y_pred = logM.predict(X_test)\n",
        "\n",
        "# Calculating and printing the score\n",
        "accuracy = logM.score(X_test, y_test)\n",
        "print(\"Accuracy: \", accuracy)"
      ]
    },
    {
      "cell_type": "code",
      "execution_count": null,
      "metadata": {
        "id": "jbRGMtrM7sjC"
      },
      "outputs": [],
      "source": [
        "# To see which feature was the most helpful\n",
        "coef = logM.coef_\n",
        "pd.DataFrame(list(zip(X, coef[0])), columns=['feature', 'coef'])"
      ]
    },
    {
      "cell_type": "markdown",
      "metadata": {
        "id": "5xoBqimJAqhp"
      },
      "source": [
        "Features with a strong positive coefficient means more of that feature tends to corrrelate to a 'hit' song.\n",
        "So from the data we can conclude that songs with greater 'danceability' tend to be hit songs. While songs with a ggreater instrumental factor tend to be non-hits."
      ]
    },
    {
      "cell_type": "code",
      "execution_count": null,
      "metadata": {
        "id": "M_EHLOiu-IsF"
      },
      "outputs": [],
      "source": [
        "# Narrowing the features to only the most useful\n",
        "# Initalising the X and Y data values\n",
        "#X_2 = data[['danceability','energy','speechiness','acousticness','instrumentalness']]\n",
        "X_2 = data[['danceability','instrumentalness']]\n",
        "y_2 = data[['Label']]\n",
        "\n",
        "# Splitting the data into training and testing\n",
        "logM_2 = LogisticRegression()\n",
        "X_train, X_test, y_train, y_test = train_test_split(X, y, test_size=0.2)\n",
        "\n",
        "# Initializing the logistic regression model and training it\n",
        "logM_2.fit(X_train, y_train)\n",
        "y_pred = logM_2.predict(X_test)\n",
        "\n",
        "# Calculating and printing the score\n",
        "accuracy_2 = logM_2.score(X_test, y_test)\n",
        "print(\"Accuracy: \", accuracy_2)"
      ]
    },
    {
      "cell_type": "code",
      "execution_count": null,
      "metadata": {
        "id": "eCTttOlQ_0C1"
      },
      "outputs": [],
      "source": [
        "# Testing and training other models to compare performance\n",
        "X_train, X_test, y_train, y_test = train_test_split(X, y, test_size=0.2)\n",
        "\n",
        "svc = SVC()\n",
        "svc.fit(X_train,y_train)\n",
        "print('Support Vector Classifier score: ',svc.score(X_test,y_test))\n",
        "\n",
        "knn = KNeighborsClassifier(n_neighbors=10)\n",
        "knn.fit(X_train,y_train)\n",
        "print('KNN score: ',knn.score(X_test,y_test))\n",
        "\n",
        "gnb = GaussianNB()\n",
        "gnb.fit(X_train,y_train)\n",
        "print('Naive Bayes score: ',gnb.score(X_test,y_test))\n",
        "\n",
        "mlp = MLPClassifier(hidden_layer_sizes=(10,10,5))\n",
        "mlp.fit(X_train,y_train)\n",
        "print('Multilayer Perceptron Classifier score: ',mlp.score(X_test,y_test))"
      ]
    },
    {
      "cell_type": "markdown",
      "metadata": {
        "id": "zfUFy80IAR4S"
      },
      "source": [
        "All of these models did not perform much better than the multi-feature logistic regression.\n",
        "Though the MLP neural network classifier does perform decently well due to its ability to consider multiple features to find complex patterns."
      ]
    },
    {
      "cell_type": "markdown",
      "metadata": {
        "id": "AMEEpF0yEBYE"
      },
      "source": [
        "#**Introducing new data and Segregation**\n"
      ]
    },
    {
      "cell_type": "code",
      "execution_count": null,
      "metadata": {
        "cellView": "form",
        "collapsed": true,
        "id": "G-GtBNPlF4aG"
      },
      "outputs": [],
      "source": [
        "#@title Loading new data\n",
        "!wget 'https://storage.googleapis.com/inspirit-ai-data-bucket-1/Data/AI%20Scholars/Sessions%206%20-%2010%20(Projects)/Project%20-%20Music%20Recommendation/data_with_most_lyrics.csv'\n",
        "music_data_path = './data_with_most_lyrics.csv'\n",
        "\n",
        "music_data = pd.read_csv(music_data_path)\n",
        "music_data = music_data.drop(columns=['Unnamed: 0', 'Unnamed: 0.1', 'Unnamed: 0.2'])\n",
        "music_data['lyrics'] = music_data['lyrics'].str.replace('\\n', ' ')\n",
        "available_songs = music_data[\"track_name\"] + ', ' + music_data[\"artist_name\"]\n",
        "available_songs = available_songs.tolist()\n",
        "\n",
        "\n",
        "!wget 'https://storage.googleapis.com/inspirit-ai-data-bucket-1/Data/AI%20Scholars/Sessions%206%20-%2010%20(Projects)/Project%20-%20Music%20Recommendation/spotify_data_urls.csv'\n",
        "past_data_path = './spotify_data_urls.csv'\n",
        "\n",
        "past_data = pd.read_csv(past_data_path)\n",
        "\n",
        "class Error(Exception):\n",
        "    \"\"\"Base class for other exceptions\"\"\"\n",
        "    pass\n",
        "\n",
        "class NotSeparableError(Error):\n",
        "    \"\"\"Raised when the input value is too small\"\"\"\n",
        "    pass\n",
        "\n",
        "def fix_genres(row):\n",
        "  row_new = row['genres'].replace(',', '')\n",
        "  row_new = row_new.replace(\"'\", \"\")\n",
        "  row_new = row_new.replace('\"', \"\")\n",
        "  if len(row_new)!=0 and row_new[0]=='[':\n",
        "    return row_new[1:-1]\n",
        "  return row_new\n",
        "\n",
        "def find_title_from_index(index):\n",
        "    return music_data[\"track_name\"][index]\n",
        "def find_artist_from_index(index):\n",
        "    return music_data[\"artist_name\"][index]\n",
        "def find_index_from_title(track_name):\n",
        "    return music_data.index[music_data.track_name == track_name].values[0]\n"
      ]
    },
    {
      "cell_type": "code",
      "execution_count": null,
      "metadata": {
        "collapsed": true,
        "id": "XB2K94OSDGiT"
      },
      "outputs": [],
      "source": [
        "# To understand the parameters in the data\n",
        "music_data.head()"
      ]
    },
    {
      "cell_type": "code",
      "execution_count": null,
      "metadata": {
        "id": "ocjaChkGEelB"
      },
      "outputs": [],
      "source": [
        "# A closer look at the genres column\n",
        "music_data['genres'].head(10)"
      ]
    },
    {
      "cell_type": "code",
      "execution_count": null,
      "metadata": {
        "id": "PwZwLR19E9QJ"
      },
      "outputs": [],
      "source": [
        "# To see if all the values are unique\n",
        "music_data['genres'].value_counts()"
      ]
    },
    {
      "cell_type": "markdown",
      "metadata": {
        "id": "z9AHl9a0FdF9"
      },
      "source": [
        "Since a song can have more than one genre, some pre-processing to separate the different genres is necessary before using value_counts. In our dataframe in pandas, the genres are stored as one giant string which needs to be turned into list strings (the genres)."
      ]
    },
    {
      "cell_type": "code",
      "execution_count": null,
      "metadata": {
        "id": "FTo5DJLmFp96"
      },
      "outputs": [],
      "source": [
        "# Initializer function to separate the genres\n",
        "def parse_string_into_list(string):\n",
        "  return string[1:len(string)-1].split(', ')\n",
        "\n",
        "# To use the stringer parser in the data frame\n",
        "def separate_values(column):\n",
        "  mdata = music_data.copy()\n",
        "  mdata[column] = mdata.apply(lambda row: parse_string_into_list(row[column]), axis=1)\n",
        "  mdata.head()\n",
        "\n",
        "  mdata = mdata.explode(column)\n",
        "  return mdata"
      ]
    },
    {
      "cell_type": "code",
      "execution_count": null,
      "metadata": {
        "collapsed": true,
        "id": "dFPL_WHEG3z_"
      },
      "outputs": [],
      "source": [
        "# Printing the separated genres\n",
        "separated_genres = separate_values('genres')\n",
        "separated_genres.head()"
      ]
    },
    {
      "cell_type": "code",
      "execution_count": null,
      "metadata": {
        "id": "q_dYpOiFHPke"
      },
      "outputs": [],
      "source": [
        "# To check the separation\n",
        "separated_genres['genres'].value_counts()"
      ]
    },
    {
      "cell_type": "markdown",
      "metadata": {
        "id": "2-lE-Nz10yOS"
      },
      "source": [
        "#**Hit Prediction**"
      ]
    },
    {
      "cell_type": "code",
      "execution_count": null,
      "metadata": {
        "cellView": "form",
        "id": "2l30RROtHnfF"
      },
      "outputs": [],
      "source": [
        "#@title Chosing a genre\n",
        "available_genres = separate_values('genres')['genres'].value_counts().index.tolist()\n",
        "genre = widgets.Dropdown(\n",
        "    options=available_genres,\n",
        "    value=None,\n",
        "    description='Genre:',\n",
        "    disabled=False,\n",
        ")\n",
        "genre"
      ]
    },
    {
      "cell_type": "code",
      "execution_count": null,
      "metadata": {
        "id": "JNfQsBV_IXXy"
      },
      "outputs": [],
      "source": [
        "# Creating the data frame with only tracks from chosen genre\n",
        "if genre.value!=None:\n",
        "  genre_tracks = separated_genres.loc[separated_genres['genres'] == genre.value]"
      ]
    },
    {
      "cell_type": "code",
      "execution_count": null,
      "metadata": {
        "collapsed": true,
        "id": "LA6M_Gyfj90Y"
      },
      "outputs": [],
      "source": [
        "# To order the songs in terms of danceability\n",
        "danceability_sorted_songs = genre_tracks.sort_values('danceability', ascending=False)\n",
        "danceability_sorted_songs.head()"
      ]
    },
    {
      "cell_type": "code",
      "execution_count": null,
      "metadata": {
        "collapsed": true,
        "id": "DCZq-og1v7V2"
      },
      "outputs": [],
      "source": [
        "# To order the songs in terms of track popularity\n",
        "popularity_sorted_songs = genre_tracks.sort_values('track_popularity', ascending=False)\n",
        "popularity_sorted_songs.head()"
      ]
    },
    {
      "cell_type": "code",
      "execution_count": null,
      "metadata": {
        "id": "VeKa3CtEumuT"
      },
      "outputs": [],
      "source": [
        "# Settting up logistic regression\n",
        "X = past_data[['danceability','energy','key','loudness','mode','speechiness','acousticness','instrumentalness','liveness','valence','tempo']]\n",
        "y = past_data[['Label']]\n",
        "\n",
        "# Splitting the data into the training and testing set\n",
        "X_train, X_test, y_train, y_test = train_test_split(X, y, test_size=0.2)\n",
        "\n",
        "# Training the model\n",
        "logR = LogisticRegression()\n",
        "logR.fit(X_train,y_train)\n",
        "\n",
        "\n",
        "# Creating new X values with music_data\n",
        "X_new = music_data[['danceability','energy','key','loudness','mode','speechiness','acousticness','instrumentalness','liveness','valence','tempo']]\n",
        "\n",
        "# To predict if each song will be a hit or not and adding the prediction to the music_data dataframe\n",
        "music_data['hit_prediction'] = logR.predict(X_new)"
      ]
    },
    {
      "cell_type": "code",
      "execution_count": null,
      "metadata": {
        "collapsed": true,
        "id": "G4Cg4UsOwm4C"
      },
      "outputs": [],
      "source": [
        "# To check that the new column for hit_prediction has been created\n",
        "# 1 if a song is a hit or a 0 if it isn't\n",
        "music_data.head()"
      ]
    },
    {
      "cell_type": "markdown",
      "metadata": {
        "id": "M3BI48yaxh9q"
      },
      "source": [
        "#**Recommending songs based on Top Hits in a Genre**"
      ]
    },
    {
      "cell_type": "code",
      "execution_count": null,
      "metadata": {
        "cellView": "form",
        "id": "T3yhyndrxW89"
      },
      "outputs": [],
      "source": [
        "#@title To choose your genre\n",
        "available_genres = separate_values('genres')['genres'].value_counts().index.tolist()\n",
        "genre = widgets.Combobox(\n",
        "    placeholder='Choose a Genre',\n",
        "    options=available_genres,\n",
        "    description='genre:',\n",
        "    ensure_option=True,\n",
        "    disabled=False)\n",
        "genre"
      ]
    },
    {
      "cell_type": "markdown",
      "metadata": {
        "id": "x7GQFWf8xwny"
      },
      "source": [
        "Since the data changed, the genres need to be separated again."
      ]
    },
    {
      "cell_type": "code",
      "execution_count": null,
      "metadata": {
        "id": "sRG_h_x4xszu"
      },
      "outputs": [],
      "source": [
        "# Separating the genres\n",
        "separated_genres = separate_values('genres')\n",
        "\n",
        "# Segmenting the data based on the chosen genre\n",
        "if genre.value!=None:\n",
        "  genre_tracks = separated_genres.loc[separated_genres['genres'] == genre.value]\n",
        "\n",
        "# Segmenting the data based on hits\n",
        "  genre_hits = genre_tracks.loc[genre_tracks['hit_prediction'] == 1]"
      ]
    },
    {
      "cell_type": "code",
      "execution_count": null,
      "metadata": {
        "collapsed": true,
        "id": "5h5dyf8rydG2"
      },
      "outputs": [],
      "source": [
        "# Top hits in the chosen genre\n",
        "pd.set_option(\"display.max_rows\", None, \"display.max_columns\", None)\n",
        "genre_hits[['track_name', 'artist_name']].head(10)"
      ]
    },
    {
      "cell_type": "markdown",
      "metadata": {
        "id": "toCv0wQnzr4_"
      },
      "source": [
        "#**Content-Based Filtering**"
      ]
    },
    {
      "cell_type": "markdown",
      "metadata": {
        "id": "FByHBVJv1uXh"
      },
      "source": [
        "Content-based filtering uses data from one user. Usually, it looks like a recommendation based on something that user previously watched, listened to, or clicked on. We can use this method to make better recommendations that are more specific to an individual user."
      ]
    },
    {
      "cell_type": "code",
      "execution_count": null,
      "metadata": {
        "collapsed": true,
        "id": "x39BWZYR0PJ3"
      },
      "outputs": [],
      "source": [
        "# Features of the data set\n",
        "music_data.dtypes"
      ]
    },
    {
      "cell_type": "code",
      "execution_count": null,
      "metadata": {
        "id": "q7raqttShdkw"
      },
      "outputs": [],
      "source": [
        "numerical_features = ['danceability', 'track_popularity']\n",
        "text_features = ['genres']"
      ]
    },
    {
      "cell_type": "code",
      "execution_count": null,
      "metadata": {
        "id": "z8dLPm-IlUIO"
      },
      "outputs": [],
      "source": [
        "# Combines all the features to a string\n",
        "def combine_features(row):\n",
        "    # Loop through all of the features and make a string with all of them combined for one row\n",
        "    combined_row = ''\n",
        "    for feature in text_features:\n",
        "      combined_row += str(row[feature])\n",
        "      combined_row += ' '\n",
        "    return combined_row[:-1]"
      ]
    },
    {
      "cell_type": "code",
      "execution_count": null,
      "metadata": {
        "id": "UEjs3THxo48I"
      },
      "outputs": [],
      "source": [
        "# To use the `combine_features` function\n",
        "# Getting rid of null values\n",
        "if 'genres' in text_features:\n",
        "  music_data['genres'] = music_data['genres'].fillna('')\n",
        "  music_data['genres'] = music_data.apply(fix_genres, axis=1)\n",
        "for feature in text_features:\n",
        "    music_data[feature] = music_data[feature].fillna('')\n",
        "music_data[\"combined_features\"] = music_data.apply(combine_features,axis=1)"
      ]
    },
    {
      "cell_type": "code",
      "execution_count": null,
      "metadata": {
        "collapsed": true,
        "id": "BkSptDUNpX8v"
      },
      "outputs": [],
      "source": [
        "# Printing\n",
        "music_data.head()"
      ]
    },
    {
      "cell_type": "code",
      "execution_count": null,
      "metadata": {
        "id": "5hZ5QECtqyD3"
      },
      "outputs": [],
      "source": [
        "# To make a vector out of the combined text features\n",
        "cv = CountVectorizer()\n",
        "count_matrix = cv.fit_transform(music_data[\"combined_features\"])"
      ]
    },
    {
      "cell_type": "code",
      "execution_count": null,
      "metadata": {
        "collapsed": true,
        "id": "i6z-osN0rLjw"
      },
      "outputs": [],
      "source": [
        "# Combining the numerical features with the vectorized text features\n",
        "text_vectors = count_matrix.toarray()\n",
        "numerical = music_data[numerical_features].to_numpy()\n",
        "\n",
        "# Scaling numerical values so features like track_popularity and tempo don't outweigh everything else\n",
        "numerical = (numerical - numerical.min(axis=0)) / (numerical.max(axis=0) - numerical.min(axis=0))\n",
        "song_vectors = np.concatenate((text_vectors, numerical), axis=1)\n",
        "\n",
        "print(song_vectors)"
      ]
    },
    {
      "cell_type": "markdown",
      "metadata": {
        "id": "gkQ1CI8DBkrg"
      },
      "source": [
        "#**Checking Similarity**"
      ]
    },
    {
      "cell_type": "markdown",
      "metadata": {
        "id": "WPysVEa0x7EV"
      },
      "source": [
        "The most common metric for recommendation systems is **cosine similarity**, so that's what we'll have as our default."
      ]
    },
    {
      "cell_type": "code",
      "execution_count": null,
      "metadata": {
        "id": "9o_ldEwfsUSt"
      },
      "outputs": [],
      "source": [
        "# To give the similarity scores between all the different songs in the data set using the cosine distance between vectors\n",
        "def all_similarity(vectors, sim_metric='cosine'):\n",
        "  if sim_metric == 'cosine':\n",
        "    return cosine_similarity(vectors)\n",
        "  else:\n",
        "    # greater distance means the vectors are less similar, so we negate it\n",
        "    return -pairwise_distances(vectors, metric=sim_metric)"
      ]
    },
    {
      "cell_type": "markdown",
      "metadata": {
        "id": "7to6PSGbx5V9"
      },
      "source": [
        "Each of the numbers represents the cosine(theta) where theta is the angle between the song vectors.If the songs are the same, theta = 0 and cos(0) = 1.0\n",
        "Cosine is larger for smaller angles so more similar songs have smaller angles and higher numbers."
      ]
    },
    {
      "cell_type": "code",
      "execution_count": null,
      "metadata": {
        "collapsed": true,
        "id": "L0v6eAoHyCYG"
      },
      "outputs": [],
      "source": [
        "sim_matrix = all_similarity(song_vectors, sim_metric='cosine')\n",
        "print(sim_matrix)"
      ]
    },
    {
      "cell_type": "code",
      "execution_count": null,
      "metadata": {
        "id": "BoFgJBtj4YsJ"
      },
      "outputs": [],
      "source": [
        "# shape of the similarity matrix\n",
        "print(sim_matrix.shape)"
      ]
    },
    {
      "cell_type": "markdown",
      "metadata": {
        "id": "TI14omDW_yAs"
      },
      "source": [
        "It is the size of the total number of songs squared.\n",
        "\n",
        "\n",
        "To access a value in the matrix, we need to do so with the indices of songs. To get the index, we will call the function `find_index_from_title(song)` that will return the index of a given song."
      ]
    },
    {
      "cell_type": "code",
      "execution_count": null,
      "metadata": {
        "id": "ASaIVKVd_qZG"
      },
      "outputs": [],
      "source": [
        "# Function to take two songs and give us the similarity score between them\n",
        "def similarity_score(track1, track2, vectors, metric='cosine'):\n",
        "  if track1==None or track2==None:\n",
        "    return None\n",
        "\n",
        "  similarity_matrix = all_similarity(vectors, metric)\n",
        "\n",
        "  song1_index = find_index_from_title(track1)\n",
        "  song2_index = find_index_from_title(track2)\n",
        "  score = similarity_matrix[song1_index][song2_index]\n",
        "\n",
        "  return score"
      ]
    },
    {
      "cell_type": "code",
      "execution_count": null,
      "metadata": {
        "cellView": "form",
        "id": "VX2jAQOYBNhq"
      },
      "outputs": [],
      "source": [
        "#@title Run to choose the first song\n",
        "song_1 = widgets.Combobox(\n",
        "    placeholder='Choose a Song',\n",
        "    options=available_songs,\n",
        "    description='song1:',\n",
        "    ensure_option=True,\n",
        "    disabled=False)\n",
        "song_1"
      ]
    },
    {
      "cell_type": "code",
      "execution_count": null,
      "metadata": {
        "cellView": "form",
        "id": "B_r0_9NLBTX3"
      },
      "outputs": [],
      "source": [
        "#@title Run to choose the second song\n",
        "song_2 = widgets.Combobox(\n",
        "    placeholder='Choose a Song',\n",
        "    options=available_songs,\n",
        "    description='song2:',\n",
        "    ensure_option=True,\n",
        "    disabled=False)\n",
        "song_2"
      ]
    },
    {
      "cell_type": "code",
      "execution_count": null,
      "metadata": {
        "id": "69usr6pLBjgV"
      },
      "outputs": [],
      "source": [
        "# To process the song choices\n",
        "if song_1.value!='' and song_2.value!='':\n",
        "  song1 = music_data['track_name'][available_songs.index(song_1.value)]\n",
        "  song2 = music_data['track_name'][available_songs.index(song_2.value)]"
      ]
    },
    {
      "cell_type": "code",
      "execution_count": null,
      "metadata": {
        "id": "LGZLO28dBrGH"
      },
      "outputs": [],
      "source": [
        "score = similarity_score(song1, song2, song_vectors, metric='cosine')\n",
        "print(score)"
      ]
    },
    {
      "cell_type": "markdown",
      "metadata": {
        "id": "yQeHkwnsCTsF"
      },
      "source": [
        "The similarity scores will change based on which features are used to calculate the similarity score"
      ]
    },
    {
      "cell_type": "code",
      "execution_count": null,
      "metadata": {
        "id": "TdyPd4fKCkxL"
      },
      "outputs": [],
      "source": [
        "# Trying new features\n",
        "\n",
        "numerical_features = ['danceability', 'tempo']\n",
        "text_features = ['genres']"
      ]
    },
    {
      "cell_type": "code",
      "execution_count": null,
      "metadata": {
        "cellView": "form",
        "id": "G35fAVMjCbdO"
      },
      "outputs": [],
      "source": [
        "#@title Run this cell after updating new features in the cell above, then run the similarity_score() cell again\n",
        "# gets rid of null values\n",
        "if 'genres' in text_features:\n",
        "  music_data['genres'] = music_data['genres'].fillna('')\n",
        "  music_data['genres'] = music_data.apply(fix_genres, axis=1)\n",
        "for feature in text_features:\n",
        "    music_data[feature] = music_data[feature].fillna('')\n",
        "music_data[\"combined_features\"] = music_data.apply(combine_features,axis=1)\n",
        "\n",
        "# Make the combined vector out of text features\n",
        "cv = CountVectorizer()\n",
        "count_matrix = cv.fit_transform(music_data[\"combined_features\"]) # creates a vector out of our combined features\n",
        "\n",
        "# Adds numerical features to vector\n",
        "text_vectors = count_matrix.toarray()\n",
        "numerical = music_data[numerical_features].to_numpy()\n",
        "# Next line scales numerical values so features like track_popularity and tempo don't outweigh everything else!\n",
        "numerical = (numerical - numerical.min(axis=0)) / (numerical.max(axis=0) - numerical.min(axis=0))\n",
        "song_vectors = np.concatenate((text_vectors, numerical), axis=1)"
      ]
    },
    {
      "cell_type": "code",
      "execution_count": null,
      "metadata": {
        "id": "sFir0cUODRK4"
      },
      "outputs": [],
      "source": [
        "# the similarity score\n",
        "if song_1.value!='' and song_2.value!='':\n",
        "  song1 = music_data['track_name'][available_songs.index(song_1.value)]\n",
        "  song2 = music_data['track_name'][available_songs.index(song_2.value)]\n",
        "\n",
        "score = similarity_score(song1, song2, song_vectors, metric='cosine')\n",
        "print(score)"
      ]
    },
    {
      "cell_type": "markdown",
      "metadata": {
        "id": "sEsybc2yEMal"
      },
      "source": [
        "#**Recommending songs based on content and user selection**"
      ]
    },
    {
      "cell_type": "markdown",
      "metadata": {
        "id": "mou8SrRXFspP"
      },
      "source": [
        "Now that we have information about the similarity between the songs in our data set, we can find the most similar songs and recommend those.\n",
        "\n",
        "In this section, I will be exploring this using the KNN algorithm (K-Nearest Neighbouts)."
      ]
    },
    {
      "cell_type": "code",
      "execution_count": null,
      "metadata": {
        "cellView": "form",
        "id": "i8ib0iJsESoq"
      },
      "outputs": [],
      "source": [
        "#@title Choose a song\n",
        "song= widgets.Combobox(\n",
        "    placeholder='Choose a Song',\n",
        "    options=available_songs,\n",
        "    description='song:',\n",
        "    ensure_option=True,\n",
        "    disabled=False)\n",
        "song"
      ]
    },
    {
      "cell_type": "code",
      "execution_count": null,
      "metadata": {
        "id": "7DBj5076GUMu"
      },
      "outputs": [],
      "source": [
        "# similarity values with the song against all other songs as vectors\n",
        "if song.value!='':\n",
        "  song = music_data['track_name'][available_songs.index(song_1.value)]\n",
        "\n",
        "similarity_matrix = all_similarity(song_vectors)\n",
        "song_index = find_index_from_title(song)\n",
        "song_similarity = similarity_matrix[song_index]"
      ]
    },
    {
      "cell_type": "code",
      "execution_count": null,
      "metadata": {
        "id": "BsIbaT6LHfNy"
      },
      "outputs": [],
      "source": [
        "from threading import current_thread\n",
        "# Setting a K value\n",
        "K = 5\n",
        "\n",
        "#list of integers corresponding to the indices of the max similarity values\n",
        "song_indices = []\n",
        "\n",
        "for i in range(0,K):\n",
        "  current_max = 0\n",
        "  current_index = 0\n",
        "\n",
        "  for j in range(0, len(song_similarity)):\n",
        "    if song_similarity[j] > current_max:\n",
        "      current_max = song_similarity[j]\n",
        "      current_index = j\n",
        "  song_indices.append(current_index)\n",
        "\n",
        "# using sorting\n",
        "similar_songs = list(enumerate(song_similarity))\n",
        "sorted_similar_songs = sorted(similar_songs,key=lambda x:x[1],reverse=True)[1:]\n",
        "song_indices = [x[0] for x in sorted_similar_songs[:K]]"
      ]
    },
    {
      "cell_type": "markdown",
      "metadata": {
        "id": "Rox6k-HUIggv"
      },
      "source": [
        "To see our recommendations, we need convert the indices back into the song titles.\n",
        "\n",
        "The relevant functions we can call are:\n",
        "  `find_title_from_index`,\n",
        "  `find_artist_from_index`"
      ]
    },
    {
      "cell_type": "code",
      "execution_count": null,
      "metadata": {
        "id": "DITxMLCtIHEC"
      },
      "outputs": [],
      "source": [
        "song_names = []\n",
        "singers = []\n",
        "\n",
        "for index in song_indices:\n",
        "  song_names.append(find_title_from_index(index))\n",
        "  singers.append(find_artist_from_index(index))"
      ]
    },
    {
      "cell_type": "code",
      "execution_count": null,
      "metadata": {
        "id": "mxkmt9dmJZ2d"
      },
      "outputs": [],
      "source": [
        "# to find the k most similar songs\n",
        "def k_most_similar_songs(song, song_vectors, K):\n",
        "  similarity_matrix = all_similarity(song_vectors)\n",
        "  song_index = find_index_from_title(song)\n",
        "  song_similarity = similarity_matrix[song_index]\n",
        "\n",
        "  song_indices = []\n",
        "\n",
        "  for i in range(0, K):\n",
        "    current_max = 0\n",
        "    current_index = None\n",
        "    for j in range(len(song_similarity)):\n",
        "      if song_similarity[j] > current_max and j not in song_indices and j != song_index:\n",
        "        current_max = song_similarity[j]\n",
        "        current_index = j\n",
        "    song_indices.append(current_index)\n",
        "\n",
        "  song_names = []\n",
        "  singers = []\n",
        "  for index in song_indices:\n",
        "    song_names.append(find_title_from_index(index))\n",
        "    singers.append(find_artist_from_index(index))\n",
        "  return song_names, singers"
      ]
    },
    {
      "cell_type": "code",
      "execution_count": null,
      "metadata": {
        "cellView": "form",
        "id": "FPRZ-gbQJ75s"
      },
      "outputs": [],
      "source": [
        "#@title Choose a song\n",
        "song = widgets.Combobox(\n",
        "    placeholder='Choose a Song',\n",
        "    options=available_songs,\n",
        "    description='Song:',\n",
        "    ensure_option=True,\n",
        "    disabled=False)\n",
        "song"
      ]
    },
    {
      "cell_type": "code",
      "execution_count": null,
      "metadata": {
        "id": "1BUl302hJ_uC"
      },
      "outputs": [],
      "source": [
        "# to get the recommended songs\n",
        "song_name = music_data['track_name'][available_songs.index(song.value)]\n",
        "similar_songs, similar_artists = k_most_similar_songs(song_name, song_vectors, 10)\n",
        "print(similar_songs)\n",
        "print(similar_artists)"
      ]
    },
    {
      "cell_type": "markdown",
      "metadata": {
        "id": "G34QaCujKHR_"
      },
      "source": [
        "We made two types of recommendation systems: one where we recommend popular songs by genre and one where we're recommending songs based on a song that the user has previously listened to."
      ]
    },
    {
      "cell_type": "code",
      "execution_count": null,
      "metadata": {
        "id": "MQJfmaB9SgUR"
      },
      "outputs": [],
      "source": []
    },
    {
      "cell_type": "markdown",
      "metadata": {
        "id": "vV65YFhzMzgD"
      },
      "source": [
        "#**Streamlit**"
      ]
    },
    {
      "cell_type": "code",
      "execution_count": null,
      "metadata": {
        "cellView": "form",
        "colab": {
          "base_uri": "https://localhost:8080/"
        },
        "collapsed": true,
        "id": "EtDzpI6QM5hB",
        "outputId": "de3b125b-edbe-4a87-84f5-3d2b7f74e2ba"
      },
      "outputs": [
        {
          "output_type": "stream",
          "name": "stdout",
          "text": [
            "Setting up Streamlit...\n",
            "--2024-07-28 11:26:49--  https://storage.googleapis.com/inspirit-ai-data-bucket-1/Data/AI%20Scholars/Sessions%206%20-%2010%20(Projects)/Project%20-%20Music%20Recommendation/data_with_most_lyrics.csv\n",
            "Resolving storage.googleapis.com (storage.googleapis.com)... 142.251.8.207, 142.251.170.207, 173.194.174.207, ...\n",
            "Connecting to storage.googleapis.com (storage.googleapis.com)|142.251.8.207|:443... connected.\n",
            "HTTP request sent, awaiting response... 200 OK\n",
            "Length: 11776786 (11M) [application/vnd.ms-excel]\n",
            "Saving to: ‘data_with_most_lyrics.csv.4’\n",
            "\n",
            "data_with_most_lyri 100%[===================>]  11.23M  9.35MB/s    in 1.2s    \n",
            "\n",
            "2024-07-28 11:26:51 (9.35 MB/s) - ‘data_with_most_lyrics.csv.4’ saved [11776786/11776786]\n",
            "\n",
            "--2024-07-28 11:26:51--  https://storage.googleapis.com/inspirit-ai-data-bucket-1/Data/AI%20Scholars/Sessions%206%20-%2010%20(Projects)/Project%20-%20Music%20Recommendation/spotify_data_urls.csv\n",
            "Resolving storage.googleapis.com (storage.googleapis.com)... 142.251.8.207, 142.251.170.207, 173.194.174.207, ...\n",
            "Connecting to storage.googleapis.com (storage.googleapis.com)|142.251.8.207|:443... connected.\n",
            "HTTP request sent, awaiting response... 200 OK\n",
            "Length: 678806 (663K) [application/vnd.ms-excel]\n",
            "Saving to: ‘spotify_data_urls.csv.4’\n",
            "\n",
            "spotify_data_urls.c 100%[===================>] 662.90K  1.01MB/s    in 0.6s    \n",
            "\n",
            "2024-07-28 11:26:52 (1.01 MB/s) - ‘spotify_data_urls.csv.4’ saved [678806/678806]\n",
            "\n",
            "Done!\n"
          ]
        }
      ],
      "source": [
        "#@title Setting up Streamlit\n",
        "print(\"Setting up Streamlit...\")\n",
        "#print(\"Don't worry if you see ERROR here!\")\n",
        "!pip -q install streamlit\n",
        "!pip -q install pyngrok\n",
        "from pyngrok import ngrok\n",
        "\n",
        "!wget 'https://storage.googleapis.com/inspirit-ai-data-bucket-1/Data/AI%20Scholars/Sessions%206%20-%2010%20(Projects)/Project%20-%20Music%20Recommendation/data_with_most_lyrics.csv'\n",
        "!wget 'https://storage.googleapis.com/inspirit-ai-data-bucket-1/Data/AI%20Scholars/Sessions%206%20-%2010%20(Projects)/Project%20-%20Music%20Recommendation/spotify_data_urls.csv'\n",
        "\n",
        "def launch_website():\n",
        "  print (\"Click this link to try your web app:\")\n",
        "  print (\"If you get an error, wait 5 seconds and click again!\")\n",
        "  if (ngrok.get_tunnels() != None):\n",
        "    ngrok.kill()\n",
        "  public_url = ngrok.connect()\n",
        "  print (public_url)\n",
        "  !streamlit run --server.port 80 app.py >/dev/null\n",
        "\n",
        "print(\"Done!\")\n"
      ]
    },
    {
      "cell_type": "code",
      "execution_count": null,
      "metadata": {
        "colab": {
          "base_uri": "https://localhost:8080/"
        },
        "id": "DG0DphFeNB-U",
        "outputId": "a8fecbfa-7eec-41c9-e00c-d26495cec92a"
      },
      "outputs": [
        {
          "output_type": "stream",
          "name": "stdout",
          "text": [
            "Authtoken saved to configuration file: /root/.config/ngrok/ngrok.yml\n"
          ]
        }
      ],
      "source": [
        "!ngrok authtoken 2jsBrcd5IYhfY9Sr6ZW4r1zwi0p_2oaPXVoRErbBSvJh4BgY8"
      ]
    },
    {
      "cell_type": "markdown",
      "metadata": {
        "id": "6c2Fs4_0M4Tr"
      },
      "source": [
        "**Customising the app**"
      ]
    },
    {
      "cell_type": "code",
      "execution_count": null,
      "metadata": {
        "colab": {
          "base_uri": "https://localhost:8080/"
        },
        "id": "DbtQVhR6OHQH",
        "outputId": "31b328dd-8a6a-4e32-b0ea-fc04c2f5729e"
      },
      "outputs": [
        {
          "output_type": "stream",
          "name": "stdout",
          "text": [
            "Overwriting header.py\n"
          ]
        }
      ],
      "source": [
        "%%writefile header.py\n",
        "import streamlit as st\n",
        "import streamlit.components.v1 as components\n",
        "\n",
        "def create_header():\n",
        "  st.title(\"Music Recommendation System\")\n",
        "  st.header(\"By Anoushka Chaudhury\")\n",
        "  st.subheader(\"This recommender system ...\")"
      ]
    },
    {
      "cell_type": "code",
      "execution_count": null,
      "metadata": {
        "colab": {
          "base_uri": "https://localhost:8080/"
        },
        "id": "7eGutxjKO7y3",
        "outputId": "e36a2767-d993-4390-b86d-7d11abaeff42"
      },
      "outputs": [
        {
          "output_type": "stream",
          "name": "stdout",
          "text": [
            "Overwriting response.py\n"
          ]
        }
      ],
      "source": [
        "%%writefile response.py\n",
        "import streamlit as st\n",
        "import streamlit.components.v1 as components\n",
        "\n",
        "def get_app_response(recommended_songs, recommended_artists):\n",
        "  if recommended_songs is not None:\n",
        "    for i in range(len(recommended_songs)):\n",
        "      st.write(recommended_songs[i] + ' by ' + recommended_artists[i])"
      ]
    },
    {
      "cell_type": "markdown",
      "metadata": {
        "id": "Xis8QaSbPJAn"
      },
      "source": [
        "The previous code written needs to be consolidated into functions so they can be used later.\n",
        "\n",
        "I started with a function that does popular recommendations (recommendations by top hits in the genre)\n",
        "\n",
        "We have a function outline below that takes in the chosen genre, the number of songs we want to give the user (`K`), and an optional parameter called `method` defaulted to \"popularity\". This can be used to switch between recommending by popularity value (using \"popularity\") or recommending by top hit prediction (using \"hit_prediction\").\n",
        "\n",
        "This function should return the K recommended songs and their artists as two separate lists."
      ]
    },
    {
      "cell_type": "markdown",
      "metadata": {
        "id": "kjsTiT6PRSSk"
      },
      "source": [
        "**Popular Recs in Streamlit**"
      ]
    },
    {
      "cell_type": "code",
      "execution_count": null,
      "metadata": {
        "cellView": "form",
        "colab": {
          "base_uri": "https://localhost:8080/"
        },
        "id": "r58xFh8xPQ84",
        "outputId": "9c8fb03f-fbbc-408f-8b46-5792b229d613"
      },
      "outputs": [
        {
          "output_type": "stream",
          "name": "stdout",
          "text": [
            "Overwriting helper.py\n"
          ]
        }
      ],
      "source": [
        "#@title Popular and Hit-based Recommendation\n",
        "%%writefile helper.py\n",
        "import streamlit as st\n",
        "import streamlit.components.v1 as components\n",
        "import pandas as pd\n",
        "import numpy as np\n",
        "from sklearn.feature_extraction.text import CountVectorizer\n",
        "from sklearn.metrics.pairwise import cosine_similarity\n",
        "from sklearn.metrics import pairwise_distances\n",
        "\n",
        "from sklearn.linear_model import LogisticRegression\n",
        "from sklearn.model_selection import train_test_split\n",
        "\n",
        "# Music data\n",
        "music_data = pd.read_csv('data_with_most_lyrics.csv')\n",
        "music_data = music_data.drop(columns=['Unnamed: 0', 'Unnamed: 0.1'])\n",
        "music_data['lyrics'] = music_data['lyrics'].str.replace('\\n', ' ')\n",
        "available_songs = music_data[\"track_name\"] + ', ' + music_data[\"artist_name\"]\n",
        "available_songs = available_songs.tolist()\n",
        "\n",
        "# Past music data\n",
        "past_data = pd.read_csv('spotify_data_urls.csv')\n",
        "\n",
        "def find_title_from_index(index):\n",
        "    return music_data[\"track_name\"][index]\n",
        "def find_artist_from_index(index):\n",
        "    return music_data[\"artist_name\"][index]\n",
        "def find_index_from_title(track_name):\n",
        "    return music_data.index[music_data.track_name == track_name].values[0]\n",
        "# end imports\n",
        "\n",
        "\n",
        "\n",
        "def top_song_recs(genre, K, method='track_popularity'):\n",
        "  # separating genre values\n",
        "  separated_genres = separate_values('genres')\n",
        "\n",
        "  # segmenting data based on chosen genre\n",
        "  genre_tracks = None\n",
        "  if genre!=None:\n",
        "    genre_tracks = separated_genres.loc[separated_genres['genres'] == genre]\n",
        "\n",
        "    if method == 'hit_prediction':\n",
        "      X = past_data[['danceability','energy','key','loudness','mode','speechiness','acousticness','instrumentalness','liveness','valence','tempo']]\n",
        "      y = past_data[['Label']]\n",
        "\n",
        "      X_train, X_test, y_train, y_test = train_test_split(X, y, test_size=0.2)\n",
        "\n",
        "      lr = LogisticRegression()\n",
        "      lr.fit(X_train,y_train)\n",
        "\n",
        "      X_new = genre_tracks[['danceability','energy','key','loudness','mode','speechiness','acousticness','instrumentalness','liveness','valence','tempo']]\n",
        "      genre_tracks['hit_prediction'] = lr.predict(X_new)\n",
        "\n",
        "      genre_hits = genre_tracks.loc[genre_tracks['hit_prediction'] == 1][:K]\n",
        "    else:\n",
        "      genre_hits = genre_tracks.sort_values('track_popularity', ascending=False)[:K]\n",
        "\n",
        "    return genre_hits['track_name'].tolist(), genre_hits['artist_name'].tolist()\n",
        "  return None, None\n",
        "\n",
        "\n",
        "\n",
        "def parse_string_into_list(string):\n",
        "  return string[1:len(string)-1].split(', ')\n",
        "\n",
        "def separate_values(column):\n",
        "  mdata = music_data.copy()\n",
        "  mdata[column] = mdata.apply(lambda row: parse_string_into_list(row[column]), axis=1)\n",
        "  mdata.head()\n",
        "\n",
        "  mdata = mdata.explode(column)\n",
        "  return mdata\n"
      ]
    },
    {
      "cell_type": "markdown",
      "metadata": {
        "id": "zwSfIqgRRZ7a"
      },
      "source": [
        "**Content-Based Recommendation in Streamlit**"
      ]
    },
    {
      "cell_type": "markdown",
      "metadata": {
        "id": "JEH_mrGWRiP7"
      },
      "source": [
        "We are going to do the same thing for content-based recommendation using the `k_most_similar_songs` function."
      ]
    },
    {
      "cell_type": "code",
      "execution_count": null,
      "metadata": {
        "cellView": "form",
        "colab": {
          "base_uri": "https://localhost:8080/"
        },
        "id": "bSWCVk80RgeO",
        "outputId": "c5644e9f-98d6-4fb2-a6d6-c117115be745"
      },
      "outputs": [
        {
          "output_type": "stream",
          "name": "stdout",
          "text": [
            "Overwriting contentbased.py\n"
          ]
        }
      ],
      "source": [
        "#@title Content-Based Recommendation\n",
        "%%writefile contentbased.py\n",
        "import streamlit as st\n",
        "import streamlit.components.v1 as components\n",
        "import pandas as pd\n",
        "import numpy as np\n",
        "from sklearn.feature_extraction.text import CountVectorizer\n",
        "from sklearn.metrics.pairwise import cosine_similarity\n",
        "from sklearn.metrics import pairwise_distances\n",
        "\n",
        "from sklearn.linear_model import LogisticRegression\n",
        "from sklearn.model_selection import train_test_split\n",
        "\n",
        "# Music data\n",
        "music_data = pd.read_csv('data_with_most_lyrics.csv')\n",
        "music_data = music_data.drop(columns=['Unnamed: 0', 'Unnamed: 0.1'])\n",
        "music_data['lyrics'] = music_data['lyrics'].str.replace('\\n', ' ')\n",
        "available_songs = music_data[\"track_name\"] + ', ' + music_data[\"artist_name\"]\n",
        "available_songs = available_songs.tolist()\n",
        "\n",
        "# Past music data\n",
        "past_data = pd.read_csv('spotify_data_urls.csv')\n",
        "\n",
        "def find_title_from_index(index):\n",
        "    return music_data[\"track_name\"][index]\n",
        "def find_artist_from_index(index):\n",
        "    return music_data[\"artist_name\"][index]\n",
        "def find_index_from_title(track_name):\n",
        "    return music_data.index[music_data.track_name == track_name].values[0]\n",
        "# end imports\n",
        "\n",
        "\n",
        "\n",
        "def k_most_similar_songs(song, song_vectors, K):\n",
        "  similarity_matrix = all_similarity(song_vectors)\n",
        "  song_index = find_index_from_title(song)\n",
        "  song_similarity = similarity_matrix[song_index]\n",
        "\n",
        "  song_indices = []\n",
        "  for i in range(0, K):\n",
        "    current_max = 0\n",
        "    current_index = None\n",
        "    for j in range(len(song_similarity)):\n",
        "      if song_similarity[j] > current_max and j not in song_indices and j != song_index:\n",
        "        current_max = song_similarity[j]\n",
        "        current_index = j\n",
        "    song_indices.append(current_index)\n",
        "\n",
        "  song_names = []\n",
        "  singers = []\n",
        "  for index in song_indices:\n",
        "    song_names.append(find_title_from_index(index))\n",
        "    singers.append(find_artist_from_index(index))\n",
        "  return song_names, singers\n",
        "\n",
        "\n",
        "\n",
        "def combine_features(row, text_features=[]):\n",
        "    combined_row = ''\n",
        "    for feature in text_features:\n",
        "      combined_row += str(row[feature])\n",
        "      combined_row += ' '\n",
        "    return combined_row[:-1]\n",
        "\n",
        "def data_formatting(text_features, numerical_features):\n",
        "  if 'genres' in text_features:\n",
        "    music_data['genres'] = music_data['genres'].fillna('')\n",
        "    # music_data['genres'] = music_data.apply(fix_genres, axis=1)\n",
        "  for feature in text_features:\n",
        "      music_data[feature] = music_data[feature].fillna('')\n",
        "  music_data[\"combined_features\"] = music_data.apply(lambda row: combine_features(row, text_features=text_features),axis=1)\n",
        "\n",
        "  cv = CountVectorizer()\n",
        "  count_matrix = cv.fit_transform(music_data[\"combined_features\"]) # creates a vector out of our combined features\n",
        "\n",
        "  text_vectors = count_matrix.toarray()\n",
        "  numerical = music_data[numerical_features].to_numpy()\n",
        "  song_vectors = np.concatenate((text_vectors, numerical), axis=1)\n",
        "  return song_vectors\n",
        "\n",
        "\n",
        "def all_similarity(vectors, sim_metric='cosine'):\n",
        "  if sim_metric == 'cosine':\n",
        "    return cosine_similarity(vectors)\n",
        "  else:\n",
        "    # greater distance means the vectors are less similar, so we negate it\n",
        "    return -pairwise_distances(vectors, metric=sim_metric)"
      ]
    },
    {
      "cell_type": "markdown",
      "metadata": {
        "id": "qYAUKVCUSlyL"
      },
      "source": [
        "**Combining all the functions and setting up a web interface**"
      ]
    },
    {
      "cell_type": "code",
      "execution_count": null,
      "metadata": {
        "cellView": "form",
        "colab": {
          "base_uri": "https://localhost:8080/"
        },
        "id": "pl3cMgi9SprQ",
        "outputId": "ed3e0531-df7d-4dee-fed6-73f8c106947e"
      },
      "outputs": [
        {
          "output_type": "stream",
          "name": "stdout",
          "text": [
            "Overwriting app.py\n"
          ]
        }
      ],
      "source": [
        "#@title Putting everything together\n",
        "%%writefile app.py\n",
        "import streamlit as st\n",
        "import streamlit.components.v1 as components\n",
        "\n",
        "import pandas as pd\n",
        "import numpy as np\n",
        "import tensorflow as tf\n",
        "import cv2\n",
        "from header import *\n",
        "from response import *\n",
        "from helper import *\n",
        "from contentbased import *\n",
        "\n",
        "create_header()\n",
        "\n",
        "def get_song_recs(rec_method, text_features, numerical_features, song, genre, K):\n",
        "  if rec_method == \"Popular Songs\":\n",
        "    return top_song_recs(genre, K)\n",
        "  elif rec_method == \"Predicted Top Hits\":\n",
        "    return top_song_recs(genre, K, method='hit_prediction')\n",
        "  else:\n",
        "    if song is not None and song is not []:\n",
        "      song_vectors = data_formatting(text_features, numerical_features)\n",
        "      return k_most_similar_songs(song, song_vectors, K)\n",
        "    return None, None\n",
        "\n",
        "\n",
        "choice = st.radio(\"Choose recommendation method: \", [\"Popular Songs\", \"Predicted Top Hits\", \"Content-Based Recommendation\"])\n",
        "if choice == \"Content-Based Recommendation\":\n",
        "  left_column, m1, m2 = st.columns((1,1,1))\n",
        "  with left_column:\n",
        "    k = st.slider(\"Pick a value for K\", 1, 20)\n",
        "\n",
        "  genre = None\n",
        "  with m1:\n",
        "    avail_text_feat = ['artist_name', 'track_name', 'album', 'genres', 'lyrics']\n",
        "    text_features = st.multiselect(\"Pick your text features!\", avail_text_feat)\n",
        "  with m2:\n",
        "    avail_num_feat = ['track_popularity', 'year', 'artist_popularity', 'artist_followers', 'danceability', 'energy', 'key', 'loudness', 'mode', 'speechiness','acousticness', 'instrumentalness', 'liveness', 'valence', 'tempo','duration_ms', 'time_signature']\n",
        "    numerical_features = st.multiselect(\"Pick your numerical features!\", avail_num_feat)\n",
        "\n",
        "  select = st.multiselect(\"Pick a song!\", available_songs, default = None)\n",
        "  if select == []:\n",
        "    song = None\n",
        "  else:\n",
        "    song = music_data['track_name'][available_songs.index(select[0])]\n",
        "else:\n",
        "  left_column, right_column = st.columns(2)\n",
        "  with left_column:\n",
        "    k = st.slider(\"Pick how many songs you want to see!\", 1, 20)\n",
        "  with right_column:\n",
        "    available_genres = separate_values('genres')['genres'].value_counts().index.tolist()\n",
        "    select = st.multiselect(\"Pick a genre!\", available_genres)\n",
        "    if select == []:\n",
        "      genre = None\n",
        "    else:\n",
        "      genre = select[0]\n",
        "  song = None\n",
        "  text_features, numerical_features = None, None\n",
        "\n",
        "recs, artists = get_song_recs(choice, text_features, numerical_features, song, genre, k)\n",
        "get_app_response(recs, artists)"
      ]
    },
    {
      "cell_type": "markdown",
      "metadata": {
        "id": "1cSDRmxgTeWP"
      },
      "source": [
        "**Note:** Predicted Top Hits and Content-Based Recommendation may take a LONG time to run"
      ]
    },
    {
      "cell_type": "markdown",
      "source": [
        "#**Launch the Website**"
      ],
      "metadata": {
        "id": "BqfeBEnBHFC2"
      }
    },
    {
      "cell_type": "code",
      "execution_count": null,
      "metadata": {
        "colab": {
          "base_uri": "https://localhost:8080/"
        },
        "id": "m578CTl4TTTj",
        "outputId": "7efc37c9-adbc-4672-f56a-8f4c11eb4714"
      },
      "outputs": [
        {
          "metadata": {
            "tags": null
          },
          "name": "stdout",
          "output_type": "stream",
          "text": [
            "Click this link to try your web app:\n",
            "If you get an error, wait 5 seconds and click again!\n",
            "NgrokTunnel: \"https://5464-34-80-196-61.ngrok-free.app\" -> \"http://localhost:80\"\n",
            "2024-07-28 11:29:19.277597: E external/local_xla/xla/stream_executor/cuda/cuda_dnn.cc:9261] Unable to register cuDNN factory: Attempting to register factory for plugin cuDNN when one has already been registered\n",
            "2024-07-28 11:29:19.277658: E external/local_xla/xla/stream_executor/cuda/cuda_fft.cc:607] Unable to register cuFFT factory: Attempting to register factory for plugin cuFFT when one has already been registered\n",
            "2024-07-28 11:29:19.429841: E external/local_xla/xla/stream_executor/cuda/cuda_blas.cc:1515] Unable to register cuBLAS factory: Attempting to register factory for plugin cuBLAS when one has already been registered\n",
            "2024-07-28 11:29:19.738763: I tensorflow/core/platform/cpu_feature_guard.cc:182] This TensorFlow binary is optimized to use available CPU instructions in performance-critical operations.\n",
            "To enable the following instructions: AVX2 FMA, in other operations, rebuild TensorFlow with the appropriate compiler flags.\n",
            "2024-07-28 11:29:21.593165: W tensorflow/compiler/tf2tensorrt/utils/py_utils.cc:38] TF-TRT Warning: Could not find TensorRT\n"
          ]
        }
      ],
      "source": [
        "launch_website()"
      ]
    }
  ],
  "metadata": {
    "colab": {
      "collapsed_sections": [
        "vjpCz1MxDxou",
        "AMEEpF0yEBYE",
        "2-lE-Nz10yOS",
        "M3BI48yaxh9q",
        "toCv0wQnzr4_",
        "gkQ1CI8DBkrg",
        "sEsybc2yEMal",
        "vV65YFhzMzgD"
      ],
      "provenance": [],
      "authorship_tag": "ABX9TyO6z9UuzlYegUfHR1hRTLfX",
      "include_colab_link": true
    },
    "kernelspec": {
      "display_name": "Python 3",
      "name": "python3"
    },
    "language_info": {
      "name": "python"
    }
  },
  "nbformat": 4,
  "nbformat_minor": 0
}